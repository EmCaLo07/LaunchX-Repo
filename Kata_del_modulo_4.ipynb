{
 "cells": [
  {
   "cell_type": "markdown",
   "metadata": {},
   "source": [
    "Ejercicio 1: Transformar cadenas"
   ]
  },
  {
   "cell_type": "code",
   "execution_count": 6,
   "metadata": {},
   "outputs": [
    {
     "name": "stdout",
     "output_type": "stream",
     "text": [
      "This temperature is in Celsius\n"
     ]
    }
   ],
   "source": [
    "text = \"\"\"Interesting facts about the Moon. The Moon is Earth's only satellite. There are several interesting facts about the Moon and how it affects life here on Earth. \n",
    "On average, the Moon moves 4cm away from the Earth every year. This yearly drift is not significant enough to cause immediate effects on Earth. The hig\"\"\"\n",
    "\n",
    "textsplit = text.split(' ')\n",
    "textsplit\n",
    "\n",
    "# Define las palabras pista: average, temperature y distance suenan bien\n",
    "\n",
    "text.find('average')\n",
    "text.find('temperature')\n",
    "text.find('distance')\n",
    "\n",
    "# Ciclo for para recorrer la cadena\n",
    "for item in text.split(' '):\n",
    "    if item.isnumeric():\n",
    "        print(item)\n",
    "\n",
    "# Ciclo para cambiar C a Celsius\n",
    "if \"30 C\".endswith(\"C\"):\n",
    "    print(\"This temperature is in Celsius\")\n"
   ]
  },
  {
   "cell_type": "code",
   "execution_count": 8,
   "metadata": {},
   "outputs": [
    {
     "data": {
      "text/plain": [
       "['Interesting',\n",
       " 'facts',\n",
       " 'about',\n",
       " 'the',\n",
       " 'Moon.',\n",
       " 'The',\n",
       " 'Moon',\n",
       " 'is',\n",
       " \"Earth's\",\n",
       " 'only',\n",
       " 'satellite.',\n",
       " 'There',\n",
       " 'are',\n",
       " 'several',\n",
       " 'interesting',\n",
       " 'facts',\n",
       " 'about',\n",
       " 'the',\n",
       " 'Moon',\n",
       " 'and',\n",
       " 'how',\n",
       " 'it',\n",
       " 'affects',\n",
       " 'life',\n",
       " 'here',\n",
       " 'on',\n",
       " 'Earth.',\n",
       " '\\nOn',\n",
       " 'average,',\n",
       " 'the',\n",
       " 'Moon',\n",
       " 'moves',\n",
       " '4cm',\n",
       " 'away',\n",
       " 'from',\n",
       " 'the',\n",
       " 'Earth',\n",
       " 'every',\n",
       " 'year.',\n",
       " 'This',\n",
       " 'yearly',\n",
       " 'drift',\n",
       " 'is',\n",
       " 'not',\n",
       " 'significant',\n",
       " 'enough',\n",
       " 'to',\n",
       " 'cause',\n",
       " 'immediate',\n",
       " 'effects',\n",
       " 'on',\n",
       " 'Earth.',\n",
       " 'The',\n",
       " 'hig']"
      ]
     },
     "execution_count": 8,
     "metadata": {},
     "output_type": "execute_result"
    }
   ],
   "source": [
    "text = \"\"\"Interesting facts about the Moon. The Moon is Earth's only satellite. There are several interesting facts about the Moon and how it affects life here on Earth. \n",
    "On average, the Moon moves 4cm away from the Earth every year. This yearly drift is not significant enough to cause immediate effects on Earth. The hig\"\"\"\n",
    "\n",
    "textsplit = text.split(' ')\n",
    "textsplit"
   ]
  },
  {
   "cell_type": "code",
   "execution_count": 9,
   "metadata": {},
   "outputs": [
    {
     "data": {
      "text/plain": [
       "-1"
      ]
     },
     "execution_count": 9,
     "metadata": {},
     "output_type": "execute_result"
    }
   ],
   "source": [
    "# Define las palabras pista: average, temperature y distance suenan bien\n",
    "\n",
    "text.find('average')\n",
    "text.find('temperature')\n",
    "text.find('distance')"
   ]
  },
  {
   "cell_type": "code",
   "execution_count": 10,
   "metadata": {},
   "outputs": [],
   "source": [
    "# Ciclo for para recorrer la cadena\n",
    "for item in text.split(' '):\n",
    "    if item.isnumeric():\n",
    "        print(item)\n"
   ]
  },
  {
   "cell_type": "code",
   "execution_count": 12,
   "metadata": {},
   "outputs": [
    {
     "name": "stdout",
     "output_type": "stream",
     "text": [
      "La temperatura esta en Celsius\n"
     ]
    }
   ],
   "source": [
    "# Ciclo para cambiar C a Celsius\n",
    "if \"30 C\".endswith(\"C\"):\n",
    "    print(\"La temperatura esta en Celsius\")"
   ]
  },
  {
   "cell_type": "markdown",
   "metadata": {},
   "source": [
    "Soluciones"
   ]
  },
  {
   "cell_type": "code",
   "execution_count": null,
   "metadata": {},
   "outputs": [],
   "source": [
    "# Divide el texto\n",
    "text_parts = text.split('. ')\n",
    "text_parts\n",
    "\n",
    "# Palabras clave\n",
    "key_words = [\"average\", \"temperature\", \"distance\"]\n",
    "\n",
    "# Ciclo for para recorrer la cadena\n",
    "for sentence in text_parts:\n",
    "    for key_word in key_words:\n",
    "        if key_word in sentence:\n",
    "            print(sentence)\n",
    "            break\n",
    "\n",
    "# Ciclo para cambiar C a Celsius\n",
    "for sentence in text_parts:\n",
    "    for key_word in key_words:\n",
    "        if key_word in sentence:\n",
    "            print(sentence.replace(' C', ' Celsius'))\n",
    "            break"
   ]
  },
  {
   "cell_type": "markdown",
   "metadata": {},
   "source": [
    "Ejercicio 2: Formateando Cadenas"
   ]
  },
  {
   "cell_type": "code",
   "execution_count": 17,
   "metadata": {},
   "outputs": [
    {
     "name": "stdout",
     "output_type": "stream",
     "text": [
      "Gravity Facts about Ganymede\n",
      "-----------------------------------\n",
      "Planet Name:Earth\n",
      "Gravity on Ganymede: 0.00162 m/s2\n"
     ]
    }
   ],
   "source": [
    "# Datos con los que vas a trabajar\n",
    "name = \"Moon\"\n",
    "gravity = 0.00162 # in kms\n",
    "planet = \"Earth\"\n",
    "\n",
    "print('Gravity Facts about Ganymede')\n",
    "print('-----------------------------------')\n",
    "print(\"Planet Name:\" + str(planet))\n",
    "print(\"Gravity on Ganymede: \" + str(gravity) + \" m/s2\")"
   ]
  },
  {
   "cell_type": "code",
   "execution_count": 18,
   "metadata": {},
   "outputs": [
    {
     "name": "stdout",
     "output_type": "stream",
     "text": [
      "Gravity Facts about Ganymede\n",
      "-----------------------------------\n",
      "Planet Name:Earth\n",
      "Gravity on Ganymede: 1.6199999999999999 m/s2\n"
     ]
    }
   ],
   "source": [
    "# Creamos el título\n",
    "name = \"Moon\"\n",
    "gravity = 0.00162 # in kms\n",
    "gravitymtrs = gravity * 1000\n",
    "planet = \"Earth\"\n",
    "\n",
    "print('Gravity Facts about Ganymede')\n",
    "print('-----------------------------------')\n",
    "print(\"Planet Name:\" + str(planet))\n",
    "print(\"Gravity on Ganymede: \" + str(gravitymtrs) + \" m/s2\")"
   ]
  },
  {
   "cell_type": "code",
   "execution_count": null,
   "metadata": {},
   "outputs": [],
   "source": [
    "# Creamos la plantilla\n"
   ]
  },
  {
   "cell_type": "code",
   "execution_count": null,
   "metadata": {},
   "outputs": [],
   "source": [
    "# Unión de ambas cadenas\n"
   ]
  },
  {
   "cell_type": "code",
   "execution_count": null,
   "metadata": {},
   "outputs": [],
   "source": [
    "# Comprueba la plantilla\n",
    "# print(nombre_plantilla)"
   ]
  },
  {
   "cell_type": "code",
   "execution_count": null,
   "metadata": {},
   "outputs": [],
   "source": [
    "# Nueva plantilla\n"
   ]
  },
  {
   "cell_type": "code",
   "execution_count": null,
   "metadata": {},
   "outputs": [],
   "source": [
    "# Pista: print(nueva_plantilla.format(variables))\n"
   ]
  },
  {
   "cell_type": "markdown",
   "metadata": {},
   "source": [
    "Soluciones"
   ]
  },
  {
   "cell_type": "code",
   "execution_count": null,
   "metadata": {},
   "outputs": [],
   "source": [
    "# Datos con los que vamos a trabajar\n",
    "\n",
    "planeta = 'Marte '\n",
    "gravedad  = 0.00143\n",
    "nombre = 'Ganímedes'\n",
    "# Creamos el título\n",
    "title = f'datos de gravedad sobre {nombre}'\n",
    "# Creamos la plantilla\n",
    "hechos = f\"\"\"{'-'*80} \n",
    "Nombre del planeta: {planeta} \n",
    "Gravedad en {nombre}: {gravedad * 1000} m/s2 \n",
    "\"\"\"\n",
    "# Unión de ambas cadenas\n",
    "template = f\"\"\"{title.title()} \n",
    "{hechos} \n",
    "\"\"\" \n",
    "print(hechos)\n",
    "# Nuevos datos muestra\n",
    "planeta = 'Marte '\n",
    "gravedad  = 0.00143\n",
    "nombre = 'Ganímedes'\n",
    "# Comprobamos la plantilla\n",
    "print(hechos)\n",
    "new_template = \"\"\"\n",
    "Datos de Gravedad sobre: {nombre}\n",
    "-------------------------------------------------------------------------------\n",
    "Nombre del planeta: {planeta}\n",
    "Gravedad en {nombre}: {gravedad} m/s2\n",
    "\"\"\"\n",
    "print(new_template.format(nombre=nombre, planeta=planeta, gravedad=gravedad))\n",
    "# Pista: print(nueva_plantilla.format(variables))\n",
    "print(new_template.format(nombre=nombre, planeta=planeta, gravedad=gravedad*1000))\n"
   ]
  }
 ],
 "metadata": {
  "interpreter": {
   "hash": "709491ab5b350bafe27bcf0f4272725a48c4e979c7c5784f192a4701e9ae104a"
  },
  "kernelspec": {
   "display_name": "Python 3.10.2 64-bit",
   "language": "python",
   "name": "python3"
  },
  "language_info": {
   "codemirror_mode": {
    "name": "ipython",
    "version": 3
   },
   "file_extension": ".py",
   "mimetype": "text/x-python",
   "name": "python",
   "nbconvert_exporter": "python",
   "pygments_lexer": "ipython3",
   "version": "3.10.2"
  },
  "orig_nbformat": 4
 },
 "nbformat": 4,
 "nbformat_minor": 2
}
